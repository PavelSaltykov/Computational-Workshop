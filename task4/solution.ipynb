{
 "cells": [
  {
   "attachments": {},
   "cell_type": "markdown",
   "metadata": {},
   "source": [
    "Задание 4. Точные методы решения СЛАУ (LU-разложение)."
   ]
  },
  {
   "cell_type": "code",
   "execution_count": 1,
   "metadata": {},
   "outputs": [],
   "source": [
    "import numpy as np\n",
    "import pandas as pd\n",
    "from scipy.linalg import hilbert\n",
    "from numpy import linalg as LA"
   ]
  },
  {
   "cell_type": "code",
   "execution_count": 2,
   "metadata": {},
   "outputs": [],
   "source": [
    "def LU_decomposition(matrix: np.ndarray) -> tuple[np.ndarray, np.ndarray]:\n",
    "    size = matrix.shape[0]\n",
    "    L = np.identity(size)\n",
    "    U = np.array(matrix, dtype=float)\n",
    "\n",
    "    for column in range(size - 1):\n",
    "        for row in range(column + 1, size):\n",
    "            L[row, column] = U[row, column] / U[column, column]\n",
    "            U[row] -= L[row, column] * U[column]\n",
    "    return L, U"
   ]
  },
  {
   "cell_type": "code",
   "execution_count": 3,
   "metadata": {},
   "outputs": [],
   "source": [
    "def forward_substitution(L: np.ndarray, b: np.array) -> np.array:\n",
    "    y = []\n",
    "    for i in range(L.shape[0]):\n",
    "        y.append(b[i] - sum(L[i, :i] * y))\n",
    "    return np.array(y)\n",
    "\n",
    "\n",
    "def backward_substitution(U: np.ndarray, y: np.array) -> np.array:\n",
    "    x = []\n",
    "    for i in range(U.shape[0] - 1, -1, -1):\n",
    "        x.insert(0, (y[i] - sum(U[i, i + 1:] * x)) / U[i, i])\n",
    "    return np.array(x)"
   ]
  },
  {
   "cell_type": "code",
   "execution_count": 4,
   "metadata": {},
   "outputs": [],
   "source": [
    "def spectral_condition_number(matrix: np.ndarray) -> float:\n",
    "    return LA.norm(matrix) * LA.norm(LA.inv(matrix))\n",
    "\n",
    "\n",
    "def volume_condition_number(matrix: np.ndarray) -> float:\n",
    "    volume = 1\n",
    "    for row in matrix:\n",
    "        volume *= LA.norm(row)\n",
    "    return volume / abs(LA.det(matrix))\n",
    "\n",
    "\n",
    "def angle_condition_number(matrix: np.ndarray) -> float:\n",
    "    size = matrix.shape[0]\n",
    "    inverse_matrix_t = LA.inv(matrix).T\n",
    "    return max(LA.norm(matrix[n]) * LA.norm(inverse_matrix_t[n]) for n in range(0, size))\n",
    "\n",
    "\n",
    "condition_numbers = {\n",
    "    'cond_s': spectral_condition_number,\n",
    "    'cond_v': volume_condition_number,\n",
    "    'cond_a': angle_condition_number\n",
    "}"
   ]
  },
  {
   "cell_type": "code",
   "execution_count": 5,
   "metadata": {},
   "outputs": [],
   "source": [
    "columns = ['A', 'L', 'U']\n",
    "\n",
    "index = condition_numbers.keys()\n",
    "\n",
    "def display_result(matrix: np.ndarray):\n",
    "    L, U = LU_decomposition(matrix)\n",
    "    matrices = [matrix, L, U]\n",
    "    data = [[condition_numbers[i](m) for m in matrices] for i in index]\n",
    "    display(pd.DataFrame(data, index=index, columns=columns))\n",
    "\n",
    "    exact_x = np.ones(matrix.shape[0])\n",
    "    b = matrix @ exact_x\n",
    "    \n",
    "    y = forward_substitution(L, b)\n",
    "    x = backward_substitution(U, y)\n",
    "\n",
    "    print(f\"Погрешность решения: {LA.norm(exact_x - x)}\")"
   ]
  },
  {
   "attachments": {},
   "cell_type": "markdown",
   "metadata": {},
   "source": [
    "### Матрица Гильберта"
   ]
  },
  {
   "cell_type": "code",
   "execution_count": 6,
   "metadata": {},
   "outputs": [
    {
     "data": {
      "text/html": [
       "<div>\n",
       "<style scoped>\n",
       "    .dataframe tbody tr th:only-of-type {\n",
       "        vertical-align: middle;\n",
       "    }\n",
       "\n",
       "    .dataframe tbody tr th {\n",
       "        vertical-align: top;\n",
       "    }\n",
       "\n",
       "    .dataframe thead th {\n",
       "        text-align: right;\n",
       "    }\n",
       "</style>\n",
       "<table border=\"1\" class=\"dataframe\">\n",
       "  <thead>\n",
       "    <tr style=\"text-align: right;\">\n",
       "      <th></th>\n",
       "      <th>A</th>\n",
       "      <th>L</th>\n",
       "      <th>U</th>\n",
       "    </tr>\n",
       "  </thead>\n",
       "  <tbody>\n",
       "    <tr>\n",
       "      <th>cond_s</th>\n",
       "      <td>1.549362e+10</td>\n",
       "      <td>132.117616</td>\n",
       "      <td>1.556130e+09</td>\n",
       "    </tr>\n",
       "    <tr>\n",
       "      <th>cond_v</th>\n",
       "      <td>7.564448e+29</td>\n",
       "      <td>2605.736682</td>\n",
       "      <td>1.137521e+04</td>\n",
       "    </tr>\n",
       "    <tr>\n",
       "      <th>cond_a</th>\n",
       "      <td>2.025215e+09</td>\n",
       "      <td>25.018643</td>\n",
       "      <td>2.326438e+01</td>\n",
       "    </tr>\n",
       "  </tbody>\n",
       "</table>\n",
       "</div>"
      ],
      "text/plain": [
       "                   A            L             U\n",
       "cond_s  1.549362e+10   132.117616  1.556130e+09\n",
       "cond_v  7.564448e+29  2605.736682  1.137521e+04\n",
       "cond_a  2.025215e+09    25.018643  2.326438e+01"
      ]
     },
     "metadata": {},
     "output_type": "display_data"
    },
    {
     "name": "stdout",
     "output_type": "stream",
     "text": [
      "Погрешность решения: 2.2003668835673837e-06\n"
     ]
    }
   ],
   "source": [
    "display_result(hilbert(8))"
   ]
  },
  {
   "attachments": {},
   "cell_type": "markdown",
   "metadata": {},
   "source": [
    "### Диагональная матрица"
   ]
  },
  {
   "cell_type": "code",
   "execution_count": 7,
   "metadata": {},
   "outputs": [
    {
     "data": {
      "text/html": [
       "<div>\n",
       "<style scoped>\n",
       "    .dataframe tbody tr th:only-of-type {\n",
       "        vertical-align: middle;\n",
       "    }\n",
       "\n",
       "    .dataframe tbody tr th {\n",
       "        vertical-align: top;\n",
       "    }\n",
       "\n",
       "    .dataframe thead th {\n",
       "        text-align: right;\n",
       "    }\n",
       "</style>\n",
       "<table border=\"1\" class=\"dataframe\">\n",
       "  <thead>\n",
       "    <tr style=\"text-align: right;\">\n",
       "      <th></th>\n",
       "      <th>A</th>\n",
       "      <th>L</th>\n",
       "      <th>U</th>\n",
       "    </tr>\n",
       "  </thead>\n",
       "  <tbody>\n",
       "    <tr>\n",
       "      <th>cond_s</th>\n",
       "      <td>8.972102</td>\n",
       "      <td>5.0</td>\n",
       "      <td>8.972102</td>\n",
       "    </tr>\n",
       "    <tr>\n",
       "      <th>cond_v</th>\n",
       "      <td>1.000000</td>\n",
       "      <td>1.0</td>\n",
       "      <td>1.000000</td>\n",
       "    </tr>\n",
       "    <tr>\n",
       "      <th>cond_a</th>\n",
       "      <td>1.000000</td>\n",
       "      <td>1.0</td>\n",
       "      <td>1.000000</td>\n",
       "    </tr>\n",
       "  </tbody>\n",
       "</table>\n",
       "</div>"
      ],
      "text/plain": [
       "               A    L         U\n",
       "cond_s  8.972102  5.0  8.972102\n",
       "cond_v  1.000000  1.0  1.000000\n",
       "cond_a  1.000000  1.0  1.000000"
      ]
     },
     "metadata": {},
     "output_type": "display_data"
    },
    {
     "name": "stdout",
     "output_type": "stream",
     "text": [
      "Погрешность решения: 0.0\n"
     ]
    }
   ],
   "source": [
    "display_result(np.diag(range(-5, 0)))"
   ]
  },
  {
   "cell_type": "markdown",
   "metadata": {},
   "source": [
    "### Трехдиагональная матрица с диагональным преобладанием "
   ]
  },
  {
   "cell_type": "code",
   "execution_count": 8,
   "metadata": {},
   "outputs": [
    {
     "data": {
      "text/html": [
       "<div>\n",
       "<style scoped>\n",
       "    .dataframe tbody tr th:only-of-type {\n",
       "        vertical-align: middle;\n",
       "    }\n",
       "\n",
       "    .dataframe tbody tr th {\n",
       "        vertical-align: top;\n",
       "    }\n",
       "\n",
       "    .dataframe thead th {\n",
       "        text-align: right;\n",
       "    }\n",
       "</style>\n",
       "<table border=\"1\" class=\"dataframe\">\n",
       "  <thead>\n",
       "    <tr style=\"text-align: right;\">\n",
       "      <th></th>\n",
       "      <th>A</th>\n",
       "      <th>L</th>\n",
       "      <th>U</th>\n",
       "    </tr>\n",
       "  </thead>\n",
       "  <tbody>\n",
       "    <tr>\n",
       "      <th>cond_s</th>\n",
       "      <td>98.122373</td>\n",
       "      <td>19.333982</td>\n",
       "      <td>21.190056</td>\n",
       "    </tr>\n",
       "    <tr>\n",
       "      <th>cond_v</th>\n",
       "      <td>589.090909</td>\n",
       "      <td>8.820485</td>\n",
       "      <td>8.820485</td>\n",
       "    </tr>\n",
       "    <tr>\n",
       "      <th>cond_a</th>\n",
       "      <td>12.898203</td>\n",
       "      <td>2.292499</td>\n",
       "      <td>2.523592</td>\n",
       "    </tr>\n",
       "  </tbody>\n",
       "</table>\n",
       "</div>"
      ],
      "text/plain": [
       "                 A          L          U\n",
       "cond_s   98.122373  19.333982  21.190056\n",
       "cond_v  589.090909   8.820485   8.820485\n",
       "cond_a   12.898203   2.292499   2.523592"
      ]
     },
     "metadata": {},
     "output_type": "display_data"
    },
    {
     "name": "stdout",
     "output_type": "stream",
     "text": [
      "Погрешность решения: 1.1102230246251565e-16\n"
     ]
    }
   ],
   "source": [
    "size = 10\n",
    "matrix = 2 * np.identity(size) + -1 * np.eye(size, k=-1) + -1 * np.eye(size, k=1)\n",
    "display_result(matrix)"
   ]
  }
 ],
 "metadata": {
  "kernelspec": {
   "display_name": "venv",
   "language": "python",
   "name": "python3"
  },
  "language_info": {
   "codemirror_mode": {
    "name": "ipython",
    "version": 3
   },
   "file_extension": ".py",
   "mimetype": "text/x-python",
   "name": "python",
   "nbconvert_exporter": "python",
   "pygments_lexer": "ipython3",
   "version": "3.10.4"
  },
  "orig_nbformat": 4
 },
 "nbformat": 4,
 "nbformat_minor": 2
}
