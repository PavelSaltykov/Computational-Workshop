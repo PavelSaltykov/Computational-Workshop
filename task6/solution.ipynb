{
 "cells": [
  {
   "attachments": {},
   "cell_type": "markdown",
   "metadata": {},
   "source": [
    "Задание 6. Частичная проблема собственных значений — поиск максимального по модулю собственного числа степенным методом и методом скалярных произведений."
   ]
  },
  {
   "cell_type": "code",
   "execution_count": 1,
   "metadata": {
    "tags": []
   },
   "outputs": [],
   "source": [
    "import numpy as np\n",
    "import pandas as pd\n",
    "from typing import Optional, Tuple\n",
    "from numpy import linalg as LA\n",
    "from math import sqrt\n",
    "from scipy.linalg import hilbert"
   ]
  },
  {
   "cell_type": "code",
   "execution_count": 2,
   "metadata": {},
   "outputs": [],
   "source": [
    "def power_method(matrix: np.ndarray, accuracy: float, limit=10000) -> Tuple[float | None, Optional[np.array], int]:\n",
    "    current_x = np.ones(matrix.shape[1])\n",
    "\n",
    "    for step in range(1, limit):\n",
    "        next_x = matrix @ current_x\n",
    "        \n",
    "        value = sqrt(np.dot(next_x, next_x) / np.dot(current_x, current_x)) * np.sign(next_x[0] / current_x[0])\n",
    "        if LA.norm(next_x - value * current_x) / LA.norm(current_x) <= accuracy:\n",
    "            return value, next_x, step\n",
    "\n",
    "        current_x = next_x / LA.norm(next_x)\n",
    "\n",
    "    return None, None, step"
   ]
  },
  {
   "cell_type": "code",
   "execution_count": 3,
   "metadata": {},
   "outputs": [],
   "source": [
    "def scalar_product_method(matrix: np.ndarray, accuracy: float, limit=10000) -> Tuple[float | None, Optional[np.array], int]:\n",
    "    size = matrix.shape[1]\n",
    "    current_x, current_y = np.ones(size), np.ones(size)\n",
    "    transposed_matrix = np.transpose(matrix)\n",
    "    current_value = None\n",
    "\n",
    "    for step in range(limit):\n",
    "        previous_x = current_x\n",
    "        current_x, current_y = matrix @ current_x, transposed_matrix @ current_y\n",
    "        current_y = current_y / LA.norm(current_y)\n",
    "\n",
    "        previous_value = current_value\n",
    "        current_value = np.dot(current_x, current_y) / np.dot(previous_x, current_y)\n",
    "        if previous_value is not None and abs(current_value - previous_value) <= accuracy:\n",
    "            return current_value, current_x, step\n",
    "\n",
    "        current_x = current_x / LA.norm(current_x)\n",
    "        \n",
    "\n",
    "    return None, None, step"
   ]
  },
  {
   "cell_type": "code",
   "execution_count": 4,
   "metadata": {},
   "outputs": [],
   "source": [
    "methods = {\n",
    "    \"степенной метод\": power_method,\n",
    "    \"метод скалярных произведений\": scalar_product_method\n",
    "}\n",
    "\n",
    "columns = [\"точность\", \"метод\", \"количество итераций\",\n",
    "           \"вычисленное собственное число\", \"погрешность\"]\n",
    "\n",
    "\n",
    "def display_results(matrix: np.ndarray):\n",
    "    values, _ = LA.eig(matrix)\n",
    "    exact_value = max(values, key=lambda v: abs(v)).real\n",
    "    print(f'\"Точное\" собственное число: {exact_value}')\n",
    "\n",
    "    accuracy = [10 ** -p for p in range(2, 6)]\n",
    "    data = []\n",
    "\n",
    "    for a in accuracy:\n",
    "        for m_name, m in methods.items():\n",
    "            actual_value, _, steps = m(matrix, a)\n",
    "            data.append([a, m_name, steps, actual_value,\n",
    "                        abs(exact_value - actual_value)])\n",
    "\n",
    "    df = pd.DataFrame(data, columns=columns)\n",
    "    display(df.style.format(\n",
    "        {columns[0]: '{:.1e}',\n",
    "         columns[4]: '{:.6e}',\n",
    "         columns[3]: '{:.16f}'}\n",
    "    ).set_table_styles(\n",
    "        [{'selector': 'th', 'props': [('max-width', '100px')]}]\n",
    "    ).hide())"
   ]
  },
  {
   "attachments": {},
   "cell_type": "markdown",
   "metadata": {},
   "source": [
    "### Диагональная матрица"
   ]
  },
  {
   "cell_type": "code",
   "execution_count": 5,
   "metadata": {},
   "outputs": [
    {
     "name": "stdout",
     "output_type": "stream",
     "text": [
      "\"Точное\" собственное число: -5.0\n"
     ]
    },
    {
     "data": {
      "text/html": [
       "<style type=\"text/css\">\n",
       "#T_72892 th {\n",
       "  max-width: 100px;\n",
       "}\n",
       "</style>\n",
       "<table id=\"T_72892\">\n",
       "  <thead>\n",
       "    <tr>\n",
       "      <th id=\"T_72892_level0_col0\" class=\"col_heading level0 col0\" >точность</th>\n",
       "      <th id=\"T_72892_level0_col1\" class=\"col_heading level0 col1\" >метод</th>\n",
       "      <th id=\"T_72892_level0_col2\" class=\"col_heading level0 col2\" >количество итераций</th>\n",
       "      <th id=\"T_72892_level0_col3\" class=\"col_heading level0 col3\" >вычисленное собственное число</th>\n",
       "      <th id=\"T_72892_level0_col4\" class=\"col_heading level0 col4\" >погрешность</th>\n",
       "    </tr>\n",
       "  </thead>\n",
       "  <tbody>\n",
       "    <tr>\n",
       "      <td id=\"T_72892_row0_col0\" class=\"data row0 col0\" >1.0e-02</td>\n",
       "      <td id=\"T_72892_row0_col1\" class=\"data row0 col1\" >степенной метод</td>\n",
       "      <td id=\"T_72892_row0_col2\" class=\"data row0 col2\" >22</td>\n",
       "      <td id=\"T_72892_row0_col3\" class=\"data row0 col3\" >-4.9999234416242091</td>\n",
       "      <td id=\"T_72892_row0_col4\" class=\"data row0 col4\" >7.655838e-05</td>\n",
       "    </tr>\n",
       "    <tr>\n",
       "      <td id=\"T_72892_row1_col0\" class=\"data row1 col0\" >1.0e-02</td>\n",
       "      <td id=\"T_72892_row1_col1\" class=\"data row1 col1\" >метод скалярных произведений</td>\n",
       "      <td id=\"T_72892_row1_col2\" class=\"data row1 col2\" >9</td>\n",
       "      <td id=\"T_72892_row1_col3\" class=\"data row1 col3\" >-4.9856738615653162</td>\n",
       "      <td id=\"T_72892_row1_col4\" class=\"data row1 col4\" >1.432614e-02</td>\n",
       "    </tr>\n",
       "    <tr>\n",
       "      <td id=\"T_72892_row2_col0\" class=\"data row2 col0\" >1.0e-03</td>\n",
       "      <td id=\"T_72892_row2_col1\" class=\"data row2 col1\" >степенной метод</td>\n",
       "      <td id=\"T_72892_row2_col2\" class=\"data row2 col2\" >32</td>\n",
       "      <td id=\"T_72892_row2_col3\" class=\"data row2 col3\" >-4.9999991172833278</td>\n",
       "      <td id=\"T_72892_row2_col4\" class=\"data row2 col4\" >8.827167e-07</td>\n",
       "    </tr>\n",
       "    <tr>\n",
       "      <td id=\"T_72892_row3_col0\" class=\"data row3 col0\" >1.0e-03</td>\n",
       "      <td id=\"T_72892_row3_col1\" class=\"data row3 col1\" >метод скалярных произведений</td>\n",
       "      <td id=\"T_72892_row3_col2\" class=\"data row3 col2\" >14</td>\n",
       "      <td id=\"T_72892_row3_col3\" class=\"data row3 col3\" >-4.9984542305610846</td>\n",
       "      <td id=\"T_72892_row3_col4\" class=\"data row3 col4\" >1.545769e-03</td>\n",
       "    </tr>\n",
       "    <tr>\n",
       "      <td id=\"T_72892_row4_col0\" class=\"data row4 col0\" >1.0e-04</td>\n",
       "      <td id=\"T_72892_row4_col1\" class=\"data row4 col1\" >степенной метод</td>\n",
       "      <td id=\"T_72892_row4_col2\" class=\"data row4 col2\" >43</td>\n",
       "      <td id=\"T_72892_row4_col3\" class=\"data row4 col3\" >-4.9999999934866945</td>\n",
       "      <td id=\"T_72892_row4_col4\" class=\"data row4 col4\" >6.513305e-09</td>\n",
       "    </tr>\n",
       "    <tr>\n",
       "      <td id=\"T_72892_row5_col0\" class=\"data row5 col0\" >1.0e-04</td>\n",
       "      <td id=\"T_72892_row5_col1\" class=\"data row5 col1\" >метод скалярных произведений</td>\n",
       "      <td id=\"T_72892_row5_col2\" class=\"data row5 col2\" >19</td>\n",
       "      <td id=\"T_72892_row5_col3\" class=\"data row5 col3\" >-4.9998338696482039</td>\n",
       "      <td id=\"T_72892_row5_col4\" class=\"data row5 col4\" >1.661304e-04</td>\n",
       "    </tr>\n",
       "    <tr>\n",
       "      <td id=\"T_72892_row6_col0\" class=\"data row6 col0\" >1.0e-05</td>\n",
       "      <td id=\"T_72892_row6_col1\" class=\"data row6 col1\" >степенной метод</td>\n",
       "      <td id=\"T_72892_row6_col2\" class=\"data row6 col2\" >53</td>\n",
       "      <td id=\"T_72892_row6_col3\" class=\"data row6 col3\" >-4.9999999999249063</td>\n",
       "      <td id=\"T_72892_row6_col4\" class=\"data row6 col4\" >7.509371e-11</td>\n",
       "    </tr>\n",
       "    <tr>\n",
       "      <td id=\"T_72892_row7_col0\" class=\"data row7 col0\" >1.0e-05</td>\n",
       "      <td id=\"T_72892_row7_col1\" class=\"data row7 col1\" >метод скалярных произведений</td>\n",
       "      <td id=\"T_72892_row7_col2\" class=\"data row7 col2\" >25</td>\n",
       "      <td id=\"T_72892_row7_col3\" class=\"data row7 col3\" >-4.9999885821391281</td>\n",
       "      <td id=\"T_72892_row7_col4\" class=\"data row7 col4\" >1.141786e-05</td>\n",
       "    </tr>\n",
       "  </tbody>\n",
       "</table>\n"
      ],
      "text/plain": [
       "<pandas.io.formats.style.Styler at 0x2a14b8abeb0>"
      ]
     },
     "metadata": {},
     "output_type": "display_data"
    }
   ],
   "source": [
    "display_results(np.diag(range(-5, 0)))"
   ]
  },
  {
   "attachments": {},
   "cell_type": "markdown",
   "metadata": {},
   "source": [
    "### Симметричная матрица"
   ]
  },
  {
   "cell_type": "code",
   "execution_count": 6,
   "metadata": {},
   "outputs": [
    {
     "name": "stdout",
     "output_type": "stream",
     "text": [
      "\"Точное\" собственное число: -2.5653731572905434\n"
     ]
    },
    {
     "data": {
      "text/html": [
       "<style type=\"text/css\">\n",
       "#T_e0761 th {\n",
       "  max-width: 100px;\n",
       "}\n",
       "</style>\n",
       "<table id=\"T_e0761\">\n",
       "  <thead>\n",
       "    <tr>\n",
       "      <th id=\"T_e0761_level0_col0\" class=\"col_heading level0 col0\" >точность</th>\n",
       "      <th id=\"T_e0761_level0_col1\" class=\"col_heading level0 col1\" >метод</th>\n",
       "      <th id=\"T_e0761_level0_col2\" class=\"col_heading level0 col2\" >количество итераций</th>\n",
       "      <th id=\"T_e0761_level0_col3\" class=\"col_heading level0 col3\" >вычисленное собственное число</th>\n",
       "      <th id=\"T_e0761_level0_col4\" class=\"col_heading level0 col4\" >погрешность</th>\n",
       "    </tr>\n",
       "  </thead>\n",
       "  <tbody>\n",
       "    <tr>\n",
       "      <td id=\"T_e0761_row0_col0\" class=\"data row0 col0\" >1.0e-02</td>\n",
       "      <td id=\"T_e0761_row0_col1\" class=\"data row0 col1\" >степенной метод</td>\n",
       "      <td id=\"T_e0761_row0_col2\" class=\"data row0 col2\" >14</td>\n",
       "      <td id=\"T_e0761_row0_col3\" class=\"data row0 col3\" >-2.5653668222411139</td>\n",
       "      <td id=\"T_e0761_row0_col4\" class=\"data row0 col4\" >6.335049e-06</td>\n",
       "    </tr>\n",
       "    <tr>\n",
       "      <td id=\"T_e0761_row1_col0\" class=\"data row1 col0\" >1.0e-02</td>\n",
       "      <td id=\"T_e0761_row1_col1\" class=\"data row1 col1\" >метод скалярных произведений</td>\n",
       "      <td id=\"T_e0761_row1_col2\" class=\"data row1 col2\" >10</td>\n",
       "      <td id=\"T_e0761_row1_col3\" class=\"data row1 col3\" >-2.5666887549192512</td>\n",
       "      <td id=\"T_e0761_row1_col4\" class=\"data row1 col4\" >1.315598e-03</td>\n",
       "    </tr>\n",
       "    <tr>\n",
       "      <td id=\"T_e0761_row2_col0\" class=\"data row2 col0\" >1.0e-03</td>\n",
       "      <td id=\"T_e0761_row2_col1\" class=\"data row2 col1\" >степенной метод</td>\n",
       "      <td id=\"T_e0761_row2_col2\" class=\"data row2 col2\" >17</td>\n",
       "      <td id=\"T_e0761_row2_col3\" class=\"data row2 col3\" >-2.5653731084641547</td>\n",
       "      <td id=\"T_e0761_row2_col4\" class=\"data row2 col4\" >4.882639e-08</td>\n",
       "    </tr>\n",
       "    <tr>\n",
       "      <td id=\"T_e0761_row3_col0\" class=\"data row3 col0\" >1.0e-03</td>\n",
       "      <td id=\"T_e0761_row3_col1\" class=\"data row3 col1\" >метод скалярных произведений</td>\n",
       "      <td id=\"T_e0761_row3_col2\" class=\"data row3 col2\" >12</td>\n",
       "      <td id=\"T_e0761_row3_col3\" class=\"data row3 col3\" >-2.5654244721634720</td>\n",
       "      <td id=\"T_e0761_row3_col4\" class=\"data row3 col4\" >5.131487e-05</td>\n",
       "    </tr>\n",
       "    <tr>\n",
       "      <td id=\"T_e0761_row4_col0\" class=\"data row4 col0\" >1.0e-04</td>\n",
       "      <td id=\"T_e0761_row4_col1\" class=\"data row4 col1\" >степенной метод</td>\n",
       "      <td id=\"T_e0761_row4_col2\" class=\"data row4 col2\" >20</td>\n",
       "      <td id=\"T_e0761_row4_col3\" class=\"data row4 col3\" >-2.5653731569142249</td>\n",
       "      <td id=\"T_e0761_row4_col4\" class=\"data row4 col4\" >3.763185e-10</td>\n",
       "    </tr>\n",
       "    <tr>\n",
       "      <td id=\"T_e0761_row5_col0\" class=\"data row5 col0\" >1.0e-04</td>\n",
       "      <td id=\"T_e0761_row5_col1\" class=\"data row5 col1\" >метод скалярных произведений</td>\n",
       "      <td id=\"T_e0761_row5_col2\" class=\"data row5 col2\" >13</td>\n",
       "      <td id=\"T_e0761_row5_col3\" class=\"data row5 col3\" >-2.5653832934303877</td>\n",
       "      <td id=\"T_e0761_row5_col4\" class=\"data row5 col4\" >1.013614e-05</td>\n",
       "    </tr>\n",
       "    <tr>\n",
       "      <td id=\"T_e0761_row6_col0\" class=\"data row6 col0\" >1.0e-05</td>\n",
       "      <td id=\"T_e0761_row6_col1\" class=\"data row6 col1\" >степенной метод</td>\n",
       "      <td id=\"T_e0761_row6_col2\" class=\"data row6 col2\" >23</td>\n",
       "      <td id=\"T_e0761_row6_col3\" class=\"data row6 col3\" >-2.5653731572876439</td>\n",
       "      <td id=\"T_e0761_row6_col4\" class=\"data row6 col4\" >2.899458e-12</td>\n",
       "    </tr>\n",
       "    <tr>\n",
       "      <td id=\"T_e0761_row7_col0\" class=\"data row7 col0\" >1.0e-05</td>\n",
       "      <td id=\"T_e0761_row7_col1\" class=\"data row7 col1\" >метод скалярных произведений</td>\n",
       "      <td id=\"T_e0761_row7_col2\" class=\"data row7 col2\" >14</td>\n",
       "      <td id=\"T_e0761_row7_col3\" class=\"data row7 col3\" >-2.5653751594829162</td>\n",
       "      <td id=\"T_e0761_row7_col4\" class=\"data row7 col4\" >2.002192e-06</td>\n",
       "    </tr>\n",
       "  </tbody>\n",
       "</table>\n"
      ],
      "text/plain": [
       "<pandas.io.formats.style.Styler at 0x2a13d38e170>"
      ]
     },
     "metadata": {},
     "output_type": "display_data"
    }
   ],
   "source": [
    "display_results(np.array([[-1.48213, -0.03916, 1.08254],\n",
    "                          [-0.03916, 1.13958, 0.01617],\n",
    "                          [1.08254, 0.01617, -1.48271]]))\n"
   ]
  },
  {
   "attachments": {},
   "cell_type": "markdown",
   "metadata": {},
   "source": [
    "### Матрица Гильберта"
   ]
  },
  {
   "cell_type": "code",
   "execution_count": 7,
   "metadata": {},
   "outputs": [
    {
     "name": "stdout",
     "output_type": "stream",
     "text": [
      "\"Точное\" собственное число: 1.7519196702651776\n"
     ]
    },
    {
     "data": {
      "text/html": [
       "<style type=\"text/css\">\n",
       "#T_a072c th {\n",
       "  max-width: 100px;\n",
       "}\n",
       "</style>\n",
       "<table id=\"T_a072c\">\n",
       "  <thead>\n",
       "    <tr>\n",
       "      <th id=\"T_a072c_level0_col0\" class=\"col_heading level0 col0\" >точность</th>\n",
       "      <th id=\"T_a072c_level0_col1\" class=\"col_heading level0 col1\" >метод</th>\n",
       "      <th id=\"T_a072c_level0_col2\" class=\"col_heading level0 col2\" >количество итераций</th>\n",
       "      <th id=\"T_a072c_level0_col3\" class=\"col_heading level0 col3\" >вычисленное собственное число</th>\n",
       "      <th id=\"T_a072c_level0_col4\" class=\"col_heading level0 col4\" >погрешность</th>\n",
       "    </tr>\n",
       "  </thead>\n",
       "  <tbody>\n",
       "    <tr>\n",
       "      <td id=\"T_a072c_row0_col0\" class=\"data row0 col0\" >1.0e-02</td>\n",
       "      <td id=\"T_a072c_row0_col1\" class=\"data row0 col1\" >степенной метод</td>\n",
       "      <td id=\"T_a072c_row0_col2\" class=\"data row0 col2\" >4</td>\n",
       "      <td id=\"T_a072c_row0_col3\" class=\"data row0 col3\" >1.7519027265035705</td>\n",
       "      <td id=\"T_a072c_row0_col4\" class=\"data row0 col4\" >1.694376e-05</td>\n",
       "    </tr>\n",
       "    <tr>\n",
       "      <td id=\"T_a072c_row1_col0\" class=\"data row1 col0\" >1.0e-02</td>\n",
       "      <td id=\"T_a072c_row1_col1\" class=\"data row1 col1\" >метод скалярных произведений</td>\n",
       "      <td id=\"T_a072c_row1_col2\" class=\"data row1 col2\" >2</td>\n",
       "      <td id=\"T_a072c_row1_col3\" class=\"data row1 col3\" >1.7517749020467632</td>\n",
       "      <td id=\"T_a072c_row1_col4\" class=\"data row1 col4\" >1.447682e-04</td>\n",
       "    </tr>\n",
       "    <tr>\n",
       "      <td id=\"T_a072c_row2_col0\" class=\"data row2 col0\" >1.0e-03</td>\n",
       "      <td id=\"T_a072c_row2_col1\" class=\"data row2 col1\" >степенной метод</td>\n",
       "      <td id=\"T_a072c_row2_col2\" class=\"data row2 col2\" >6</td>\n",
       "      <td id=\"T_a072c_row2_col3\" class=\"data row2 col3\" >1.7519196453892509</td>\n",
       "      <td id=\"T_a072c_row2_col4\" class=\"data row2 col4\" >2.487593e-08</td>\n",
       "    </tr>\n",
       "    <tr>\n",
       "      <td id=\"T_a072c_row3_col0\" class=\"data row3 col0\" >1.0e-03</td>\n",
       "      <td id=\"T_a072c_row3_col1\" class=\"data row3 col1\" >метод скалярных произведений</td>\n",
       "      <td id=\"T_a072c_row3_col2\" class=\"data row3 col2\" >3</td>\n",
       "      <td id=\"T_a072c_row3_col3\" class=\"data row3 col3\" >1.7519141227712851</td>\n",
       "      <td id=\"T_a072c_row3_col4\" class=\"data row3 col4\" >5.547494e-06</td>\n",
       "    </tr>\n",
       "    <tr>\n",
       "      <td id=\"T_a072c_row4_col0\" class=\"data row4 col0\" >1.0e-04</td>\n",
       "      <td id=\"T_a072c_row4_col1\" class=\"data row4 col1\" >степенной метод</td>\n",
       "      <td id=\"T_a072c_row4_col2\" class=\"data row4 col2\" >7</td>\n",
       "      <td id=\"T_a072c_row4_col3\" class=\"data row4 col3\" >1.7519196693120285</td>\n",
       "      <td id=\"T_a072c_row4_col4\" class=\"data row4 col4\" >9.531491e-10</td>\n",
       "    </tr>\n",
       "    <tr>\n",
       "      <td id=\"T_a072c_row5_col0\" class=\"data row5 col0\" >1.0e-04</td>\n",
       "      <td id=\"T_a072c_row5_col1\" class=\"data row5 col1\" >метод скалярных произведений</td>\n",
       "      <td id=\"T_a072c_row5_col2\" class=\"data row5 col2\" >4</td>\n",
       "      <td id=\"T_a072c_row5_col3\" class=\"data row5 col3\" >1.7519194577059773</td>\n",
       "      <td id=\"T_a072c_row5_col4\" class=\"data row5 col4\" >2.125592e-07</td>\n",
       "    </tr>\n",
       "    <tr>\n",
       "      <td id=\"T_a072c_row6_col0\" class=\"data row6 col0\" >1.0e-05</td>\n",
       "      <td id=\"T_a072c_row6_col1\" class=\"data row6 col1\" >степенной метод</td>\n",
       "      <td id=\"T_a072c_row6_col2\" class=\"data row6 col2\" >8</td>\n",
       "      <td id=\"T_a072c_row6_col3\" class=\"data row6 col3\" >1.7519196702286566</td>\n",
       "      <td id=\"T_a072c_row6_col4\" class=\"data row6 col4\" >3.652101e-11</td>\n",
       "    </tr>\n",
       "    <tr>\n",
       "      <td id=\"T_a072c_row7_col0\" class=\"data row7 col0\" >1.0e-05</td>\n",
       "      <td id=\"T_a072c_row7_col1\" class=\"data row7 col1\" >метод скалярных произведений</td>\n",
       "      <td id=\"T_a072c_row7_col2\" class=\"data row7 col2\" >4</td>\n",
       "      <td id=\"T_a072c_row7_col3\" class=\"data row7 col3\" >1.7519194577059773</td>\n",
       "      <td id=\"T_a072c_row7_col4\" class=\"data row7 col4\" >2.125592e-07</td>\n",
       "    </tr>\n",
       "  </tbody>\n",
       "</table>\n"
      ],
      "text/plain": [
       "<pandas.io.formats.style.Styler at 0x2a13d480070>"
      ]
     },
     "metadata": {},
     "output_type": "display_data"
    }
   ],
   "source": [
    "display_results(hilbert(10))"
   ]
  }
 ],
 "metadata": {
  "kernelspec": {
   "display_name": "Python 3 (ipykernel)",
   "language": "python",
   "name": "python3"
  },
  "language_info": {
   "codemirror_mode": {
    "name": "ipython",
    "version": 3
   },
   "file_extension": ".py",
   "mimetype": "text/x-python",
   "name": "python",
   "nbconvert_exporter": "python",
   "pygments_lexer": "ipython3",
   "version": "3.10.4"
  }
 },
 "nbformat": 4,
 "nbformat_minor": 4
}
